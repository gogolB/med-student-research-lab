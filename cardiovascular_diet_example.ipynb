{
 "cells": [
  {
   "cell_type": "markdown",
   "metadata": {},
   "source": [
    "# Exploring the Relationship Between Cardiovascular Health and Diet Using NHANES Data\n",
    "\n",
    "This notebook demonstrates how to use the AI Medical Research Assistant to explore the relationship between cardiovascular health and diet using real data from the National Health and Nutrition Examination Survey (NHANES). The multi-agent system will automatically route your questions to the appropriate specialist, such as a medical researcher, data analyst, or code generator."
   ]
  },
  {
   "cell_type": "markdown",
   "metadata": {},
   "source": [
    "## How to use this notebook\n",
    "\n",
    "1. Type your question in the text box below\n",
    "2. Click 'Ask' or press Enter\n",
    "3. The AI will analyze your question and route it to the appropriate specialist\n",
    "4. The response will appear in the output area below the input\n",
    "5. For code examples, you can click 'Create Code Cell' to create a new cell with the code\n",
    "\n",
    "This interface allows you to have a continuous conversation with the AI assistant."
   ]
  },
  {
   "cell_type": "markdown",
   "metadata": {},
   "source": [
    "## About NHANES Data\n",
    "\n",
    "The National Health and Nutrition Examination Survey (NHANES) is a program of studies designed to assess the health and nutritional status of adults and children in the United States. It combines interviews and physical examinations to collect data on a wide range of health topics.\n",
    "\n",
    "NHANES is a major program of the National Center for Health Statistics (NCHS), which is part of the Centers for Disease Control and Prevention (CDC). The survey examines a nationally representative sample of about 5,000 people each year.\n",
    "\n",
    "In this notebook, we'll focus on dietary patterns and cardiovascular health metrics from recent NHANES data."
   ]
  },
  {
   "cell_type": "markdown",
   "metadata": {},
   "source": [
    "## Example Research Questions\n",
    "\n",
    "Below are examples of questions you can ask. Simply type one of these questions (or your own) in the input box below:\n",
    "\n",
    "- \"What are the key components of the Mediterranean diet and how might they impact cardiovascular health?\"\n",
    "\n",
    "- \"What statistical approaches are best for analyzing the relationship between dietary patterns and blood pressure in NHANES data?\"\n",
    "\n",
    "- \"Generate Python code to download and preprocess NHANES dietary data for cardiovascular analysis\"\n",
    "\n",
    "- \"How should I interpret the correlation between Mediterranean diet adherence and lower LDL cholesterol?\"\n",
    "\n",
    "- \"What confounding variables should I control for when analyzing diet and cardiovascular outcomes?\"\n",
    "\n",
    "- \"What innovative research questions could extend our understanding of diet and heart health?\""
   ]
  },
  {
   "cell_type": "markdown",
   "metadata": {},
   "source": [
    "## Setup\n",
    "\n",
    "Let's import the necessary libraries and initialize our AI research assistant."
   ]
  },
  {
   "cell_type": "code",
   "execution_count": null,
   "metadata": {},
   "outputs": [
    {
     "data": {},
     "metadata": {},
     "output_type": "display_data"
    }
   ],
   "source": [
    "# Import our multi-agent framework\n",
    "import sys\n",
    "sys.path.append('/Users/gogolb/Projects/research-ai')\n",
    "\n",
    "from multi_agent_framework import initialize_cell_chat\n",
    "\n",
    "# Initialize the chat UI\n",
    "initialize_cell_chat()"
   ]
  },
  {
   "cell_type": "code",
   "execution_count": null,
   "metadata": {},
   "outputs": [],
   "source": []
  }
 ],
 "metadata": {
  "kernelspec": {
   "display_name": ".venv",
   "language": "python",
   "name": "python3"
  },
  "language_info": {
   "codemirror_mode": {
    "name": "ipython",
    "version": 3
   },
   "file_extension": ".py",
   "mimetype": "text/x-python",
   "name": "python",
   "nbconvert_exporter": "python",
   "pygments_lexer": "ipython3",
   "version": "3.13.2"
  }
 },
 "nbformat": 4,
 "nbformat_minor": 2
}
