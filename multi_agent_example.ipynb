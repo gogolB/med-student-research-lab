{
 "cells": [
  {
   "cell_type": "markdown",
   "metadata": {},
   "source": [
    "# Multi-Agent Medical Research Assistant Example\n",
    "\n",
    "This notebook demonstrates how to use the multi-agent framework for medical research assistance."
   ]
  },
  {
   "cell_type": "markdown",
   "metadata": {},
   "source": [
    "## 0. Package Installation\n",
    "\n",
    "First, let's make sure all required packages are installed. Run the cell below to install any missing packages."
   ]
  },
  {
   "cell_type": "code",
   "execution_count": 5,
   "metadata": {},
   "outputs": [
    {
     "name": "stdout",
     "output_type": "stream",
     "text": [
      "All required packages are installed.\n",
      "Ready to proceed!\n"
     ]
    }
   ],
   "source": [
    "# Check and install required packages\n",
    "import sys\n",
    "import subprocess\n",
    "import os\n",
    "\n",
    "# Function to install packages from requirements.txt\n",
    "def install_requirements():\n",
    "    # Try different potential locations for requirements.txt\n",
    "    possible_paths = [\n",
    "        os.path.join(os.getcwd(), 'requirements.txt'),  # Same directory\n",
    "        os.path.join(os.path.dirname(os.getcwd()), 'requirements.txt'),  # Parent directory\n",
    "        os.path.join(os.path.dirname(os.path.abspath('')), 'research-ai', 'requirements.txt'),  # Specified path\n",
    "    ]\n",
    "    \n",
    "    for requirements_path in possible_paths:\n",
    "        if os.path.exists(requirements_path):\n",
    "            print(f\"Found requirements.txt at {requirements_path}\")\n",
    "            print(\"Installing required packages...\")\n",
    "            subprocess.check_call([sys.executable, \"-m\", \"pip\", \"install\", \"-r\", requirements_path])\n",
    "            print(\"Package installation complete!\")\n",
    "            return True\n",
    "    \n",
    "    # If requirements.txt not found, install packages directly\n",
    "    print(\"Could not find requirements.txt, installing packages directly...\")\n",
    "    packages = ['openai>=1.0.0', 'ipywidgets>=8.0.0', 'requests>=2.28.0', \n",
    "                'matplotlib>=3.5.0', 'pandas>=1.3.0', 'numpy>=1.20.0', \n",
    "                'seaborn>=0.11.0', 'scikit-learn>=1.0.0']\n",
    "    \n",
    "    for package in packages:\n",
    "        try:\n",
    "            subprocess.check_call([sys.executable, \"-m\", \"pip\", \"install\", package])\n",
    "        except subprocess.CalledProcessError:\n",
    "            print(f\"Failed to install {package}\")\n",
    "    \n",
    "    print(\"Direct package installation completed.\")\n",
    "    return True\n",
    "\n",
    "# Function to check if packages are installed\n",
    "def check_packages():\n",
    "    required_packages = [\n",
    "        'openai',\n",
    "        'ipywidgets',\n",
    "        'requests',\n",
    "        'matplotlib',\n",
    "        'pandas',\n",
    "        'numpy',\n",
    "        'seaborn',\n",
    "    ]\n",
    "    \n",
    "    missing_packages = []\n",
    "    for package in required_packages:\n",
    "        try:\n",
    "            __import__(package)\n",
    "        except ImportError:\n",
    "            missing_packages.append(package)\n",
    "    \n",
    "    if missing_packages:\n",
    "        print(f\"Missing packages: {', '.join(missing_packages)}\")\n",
    "        return False\n",
    "    else:\n",
    "        print(\"All required packages are installed.\")\n",
    "        return True\n",
    "\n",
    "# Check packages and install if needed\n",
    "if not check_packages():\n",
    "    install_requirements()\n",
    "    # Verify installation\n",
    "    if not check_packages():\n",
    "        print(\"Warning: Some packages may not have been installed correctly.\")\n",
    "else:\n",
    "    print(\"Ready to proceed!\")"
   ]
  },
  {
   "cell_type": "markdown",
   "metadata": {},
   "source": [
    "## 1. Import and Setup\n",
    "\n",
    "First, let's import the framework. Make sure `multi_agent_framework.py` is in the same directory as this notebook."
   ]
  },
  {
   "cell_type": "code",
   "execution_count": 2,
   "metadata": {},
   "outputs": [
    {
     "name": "stdout",
     "output_type": "stream",
     "text": [
      "Found framework file at /Users/gogolb/Projects/research-ai/multi_agent_framework.py\n",
      "Added /Users/gogolb/Projects/research-ai to sys.path\n",
      "Successfully imported framework modules\n"
     ]
    }
   ],
   "source": [
    "# Check if the framework file exists\n",
    "import os\n",
    "import sys\n",
    "\n",
    "framework_path = os.path.join(os.getcwd(), 'multi_agent_framework.py')\n",
    "if not os.path.exists(framework_path):\n",
    "    print(f\"Warning: Could not find 'multi_agent_framework.py' at {framework_path}\")\n",
    "    print(\"Please make sure the file is in the same directory as this notebook.\")\n",
    "else:\n",
    "    print(f\"Found framework file at {framework_path}\")\n",
    "\n",
    "# Make sure the framework is in the path\n",
    "module_path = os.path.abspath(os.path.join('.'))\n",
    "if module_path not in sys.path:\n",
    "    sys.path.append(module_path)\n",
    "    print(f\"Added {module_path} to sys.path\")\n",
    "\n",
    "# Try to import with error handling\n",
    "try:\n",
    "    from multi_agent_framework import Config, set_backend, initialize_chat\n",
    "    print(\"Successfully imported framework modules\")\n",
    "except ImportError as e:\n",
    "    print(f\"Error importing framework: {e}\")\n",
    "    print(\"Please check if the file exists and has the correct format.\")\n",
    "except Exception as e:\n",
    "    print(f\"Unexpected error during import: {e}\")"
   ]
  },
  {
   "cell_type": "markdown",
   "metadata": {},
   "source": [
    "## 2. Configure API Keys\n",
    "\n",
    "You should set your API keys before using the framework. You can either edit the `multi_agent_framework.py` file directly or set them here."
   ]
  },
  {
   "cell_type": "code",
   "execution_count": 3,
   "metadata": {},
   "outputs": [
    {
     "name": "stdout",
     "output_type": "stream",
     "text": [
      "API keys configured.\n",
      "Current backend set to: nim\n"
     ]
    }
   ],
   "source": [
    "try:\n",
    "    # Set your OpenAI API key\n",
    "    openai_api_key = \"your_openai_api_key_here\"  # Replace with your actual OpenAI API key\n",
    "    \n",
    "    # Set your NVIDIA NIM API key (if you want to use NIM)\n",
    "    nim_api_key = \"your_nim_api_key_here\"  # Replace with your actual NIM API key\n",
    "    \n",
    "    # Configure the framework\n",
    "    Config.OPENAI_API_KEY = openai_api_key\n",
    "    \n",
    "    # Optionally configure NIM\n",
    "    # Config.NIM_API_KEY = nim_api_key\n",
    "    # Config.NIM_MODEL = \"nvidia/llama-3.3-nemotron-super-49b-v1\"  # Your preferred NIM model\n",
    "    \n",
    "    print(\"API keys configured.\")\n",
    "    print(f\"Current backend set to: {Config.BACKEND}\")\n",
    "except Exception as e:\n",
    "    print(f\"Error configuring API keys: {e}\")"
   ]
  },
  {
   "cell_type": "markdown",
   "metadata": {},
   "source": [
    "## 3. Initialize the Chat Interface\n",
    "\n",
    "Now let's initialize the chat interface. This will display the interactive widgets."
   ]
  },
  {
   "cell_type": "code",
   "execution_count": 4,
   "metadata": {},
   "outputs": [
    {
     "name": "stdout",
     "output_type": "stream",
     "text": [
      "Starting chat interface initialization...\n"
     ]
    },
    {
     "data": {
      "application/vnd.jupyter.widget-view+json": {
       "model_id": "79ce831b1ee548c2a92675903e1844fe",
       "version_major": 2,
       "version_minor": 0
      },
      "text/plain": [
       "VBox(children=(HTML(value='<h2>AI Medical Research Assistant</h2>'), HTML(value=\"<p>Ask any medical research q…"
      ]
     },
     "metadata": {},
     "output_type": "display_data"
    },
    {
     "name": "stdout",
     "output_type": "stream",
     "text": [
      "Multi-agent medical research assistant initialized using NIM backend!\n",
      "Using NIM model: nvidia/llama-3.3-nemotron-super-49b-v1\n",
      "Attempt 1 failed: Error querying NIM API: Status code 500, Details: {\"type\": \"about:blank\", \"status\": 500, \"title\": \"Internal Server Error\", \"detail\": \"Inference connection error while making inference request\"}. Retrying...\n",
      "Attempt 2 failed: Error querying NIM API: Status code 500, Details: {\"type\": \"about:blank\", \"status\": 500, \"title\": \"Internal Server Error\", \"detail\": \"Inference connection error while making inference request\"}. Retrying...\n",
      "WARNING: Backend connection test failed: Error querying NIM API: Status code 500, Details: {\"type\": \"about:blank\", \"status\": 500, \"title\": \"Internal Server Error\", \"detail\": \"Inference connection error while making inference request\"}\n",
      "Chat interface initialized successfully!\n"
     ]
    }
   ],
   "source": [
    "# Initialize the chat interface with error handling\n",
    "try:\n",
    "    print(\"Starting chat interface initialization...\")\n",
    "    initialize_chat()\n",
    "    print(\"Chat interface initialized successfully!\")\n",
    "except Exception as e:\n",
    "    import traceback\n",
    "    print(f\"Error initializing chat interface: {e}\")\n",
    "    traceback.print_exc()"
   ]
  },
  {
   "cell_type": "markdown",
   "metadata": {},
   "source": [
    "## 4. Example Usage\n",
    "\n",
    "After running the cell above, you'll see the chat interface appear. Here are some example queries you can try:\n",
    "\n",
    "### MedResearcher Examples:\n",
    "- \"How should I design a study on the relationship between diet and cardiovascular disease?\"\n",
    "- \"What statistical methods are best for analyzing patient outcome data?\"\n",
    "\n",
    "### Coder Examples:\n",
    "- \"Write code to load and clean a CSV file of patient data\"\n",
    "- \"Create a visualization of disease prevalence by geographical region\"\n",
    "\n",
    "### Data Validator Examples:\n",
    "- \"What should I check before using the MIMIC-III dataset for my research?\"\n",
    "- \"How can I assess the quality of my medical imaging dataset?\"\n",
    "\n",
    "### Creative Ideator Examples:\n",
    "- \"Suggest innovative approaches for visualizing patient journey data\"\n",
    "- \"What are some unique research questions I could explore with EHR data?\"\n",
    "\n",
    "### Orchestrator Examples:\n",
    "- \"I want to study the impact of air pollution on respiratory diseases. How should I approach this project?\"\n",
    "- \"Guide me through the process of conducting a meta-analysis of clinical trials\"\n",
    "\n",
    "You can also select a specific agent from the dropdown menu if you know which specialist you need."
   ]
  },
  {
   "cell_type": "markdown",
   "metadata": {},
   "source": [
    "## 5. Switching Backends\n",
    "\n",
    "You can switch between OpenAI and NVIDIA NIM backends using the dropdown in the interface. Alternatively, you can programmatically switch backends as shown below:"
   ]
  },
  {
   "cell_type": "code",
   "execution_count": null,
   "metadata": {},
   "outputs": [],
   "source": [
    "try:\n",
    "    # Switch to NVIDIA NIM backend\n",
    "    set_backend(\"nim\")\n",
    "    print(f\"Current backend: {Config.BACKEND}\")\n",
    "    print(f\"Current NIM model: {Config.NIM_MODEL}\")\n",
    "    \n",
    "    # Switch back to OpenAI backend\n",
    "    # set_backend(\"openai\")\n",
    "    # print(f\"Current backend: {Config.BACKEND}\")\n",
    "    # print(f\"Current OpenAI model: {Config.DEFAULT_MODEL}\")\n",
    "except Exception as e:\n",
    "    print(f\"Error switching backends: {e}\")"
   ]
  },
  {
   "cell_type": "markdown",
   "metadata": {},
   "source": [
    "## 6. Handling Code Output\n",
    "\n",
    "When you use the Coder agent, the generated code will be placed in a new code cell below. You can then run that cell to execute the code.\n",
    "\n",
    "Here's an example of what happens when you ask the Coder agent for code:"
   ]
  },
  {
   "cell_type": "markdown",
   "metadata": {},
   "source": [
    "**Example Query:** \"Write code to create a scatter plot of patient age vs. hospital stay duration\"\n",
    "\n",
    "This will generate a new code cell below with Python code that you can run to create the plot."
   ]
  },
  {
   "cell_type": "markdown",
   "metadata": {},
   "source": [
    "## 7. Troubleshooting\n",
    "\n",
    "If you encounter any issues with the API connections:\n",
    "\n",
    "1. Check that your API keys are correct\n",
    "2. Ensure you have internet connectivity\n",
    "3. Verify that the model names are valid for your subscription\n",
    "4. Check that the required libraries are installed (`pip install openai requests ipywidgets`)\n",
    "\n",
    "For issues with specific agents, you can always fallback to the Orchestrator agent by typing \"help\" or selecting it directly from the dropdown."
   ]
  },
  {
   "cell_type": "code",
   "execution_count": null,
   "metadata": {},
   "outputs": [],
   "source": [
    "# Debugging cell - run this if you have issues\n",
    "def run_diagnostics():\n",
    "    print(\"=== Running diagnostics ===\")\n",
    "    \n",
    "    # Check Python version\n",
    "    import sys\n",
    "    print(f\"Python version: {sys.version}\")\n",
    "    \n",
    "    # Check OpenAI version\n",
    "    try:\n",
    "        import openai\n",
    "        print(f\"OpenAI version: {openai.__version__}\")\n",
    "    except ImportError:\n",
    "        print(\"OpenAI package not installed\")\n",
    "    except Exception as e:\n",
    "        print(f\"Error checking OpenAI: {e}\")\n",
    "    \n",
    "    # Check ipywidgets\n",
    "    try:\n",
    "        import ipywidgets\n",
    "        print(f\"ipywidgets version: {ipywidgets.__version__}\")\n",
    "    except ImportError:\n",
    "        print(\"ipywidgets package not installed\")\n",
    "    except Exception as e:\n",
    "        print(f\"Error checking ipywidgets: {e}\")\n",
    "    \n",
    "    # Check for framework file\n",
    "    import os\n",
    "    framework_path = os.path.join(os.getcwd(), 'multi_agent_framework.py')\n",
    "    print(f\"Framework file exists: {os.path.exists(framework_path)}\")\n",
    "    \n",
    "    # Check if API keys are set\n",
    "    try:\n",
    "        from multi_agent_framework import Config\n",
    "        print(f\"OpenAI API key set: {'Yes' if Config.OPENAI_API_KEY and Config.OPENAI_API_KEY != 'your_api_key_here' else 'No'}\")\n",
    "        print(f\"NIM API key set: {'Yes' if Config.NIM_API_KEY and Config.NIM_API_KEY != 'your_nim_api_key_here' else 'No'}\")\n",
    "    except Exception as e:\n",
    "        print(f\"Error checking API keys: {e}\")\n",
    "    \n",
    "    print(\"=== Diagnostics complete ===\")\n",
    "\n",
    "# Run the diagnostics\n",
    "run_diagnostics()"
   ]
  },
  {
   "cell_type": "markdown",
   "metadata": {},
   "source": [
    "## 8. Manual Package Installation\n",
    "\n",
    "If the automatic package installation didn't work, you can manually install all required packages by running the following command in your terminal:\n",
    "\n",
    "```bash\n",
    "pip install -r requirements.txt\n",
    "```\n",
    "\n",
    "Or install individual packages:\n",
    "\n",
    "```bash\n",
    "pip install openai ipywidgets requests jupyter notebook matplotlib pandas numpy seaborn scikit-learn\n",
    "```"
   ]
  },
  {
   "cell_type": "code",
   "execution_count": null,
   "metadata": {},
   "outputs": [],
   "source": [
    "# Run this cell to install packages directly\n",
    "%pip install openai>=1.0.0 ipywidgets>=8.0.0 requests>=2.28.0 matplotlib>=3.5.0 pandas>=1.3.0 numpy>=1.20.0 seaborn>=0.11.0 scikit-learn>=1.0.0"
   ]
  }
 ],
 "metadata": {
  "kernelspec": {
   "display_name": ".venv",
   "language": "python",
   "name": "python3"
  },
  "language_info": {
   "codemirror_mode": {
    "name": "ipython",
    "version": 3
   },
   "file_extension": ".py",
   "mimetype": "text/x-python",
   "name": "python",
   "nbconvert_exporter": "python",
   "pygments_lexer": "ipython3",
   "version": "3.13.2"
  }
 },
 "nbformat": 4,
 "nbformat_minor": 2
}
